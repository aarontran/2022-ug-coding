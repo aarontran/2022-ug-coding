{
 "cells": [
  {
   "cell_type": "markdown",
   "metadata": {
    "id": "W-59zc9GPN27"
   },
   "source": [
    "# 0. Introduction (Ryan or Alina?) Ryan please :)\n",
    "\n",
    "Pre-requisites, learning goals, format, etc..."
   ]
  },
  {
   "cell_type": "code",
   "execution_count": null,
   "metadata": {
    "id": "_xt8Jr1cV-8V"
   },
   "outputs": [],
   "source": []
  },
  {
   "cell_type": "markdown",
   "metadata": {
    "id": "RWM9w37_BHOB"
   },
   "source": [
    "# 1. Brief Jupyter overview (Aaron)\n",
    "\n",
    "## 1.1 Installation, environments; get oriented\n",
    "\n",
    "Q: What is the difference between `pip install`, versus Conda (or Miniconda, Anaconda), versus `virtualenv`?  (mainly for OS X and Unix users)\n",
    "\n",
    "A: python + libraries are installed and \"searched for\" in different places (roughly speaking).\n",
    "\n",
    "__TODO__ need a transcript of shell commands for this exercise, not done yet --ATr, 2022 July 18\n",
    "\n",
    "We will open up and use a _terminal_ to see where Python and Jupyter are installed.  Relevant commands:\n",
    "`which`, `pip install`, `pip install --local`, `conda`."
   ]
  },
  {
   "cell_type": "code",
   "execution_count": null,
   "metadata": {
    "id": "hCwLPOb0U95h"
   },
   "outputs": [],
   "source": [
    "import matplotlib.pyplot as plt\n",
    "import numpy as np"
   ]
  },
  {
   "cell_type": "code",
   "execution_count": null,
   "metadata": {
    "id": "YqGN0wE8JpL9"
   },
   "outputs": [],
   "source": [
    "np.__version__"
   ]
  },
  {
   "cell_type": "code",
   "execution_count": null,
   "metadata": {
    "id": "A4MEN8Z7Jtjh"
   },
   "outputs": [],
   "source": [
    "np.__file__"
   ]
  },
  {
   "cell_type": "markdown",
   "metadata": {
    "id": "EiLerpthJem4"
   },
   "source": [
    "## 1.2 Using and navigating Jupyter\n",
    "\n",
    "* Code and text cells.\n",
    "* Command vs. insert mode: mouse click, `Esc`, `Return`\n",
    "* Execute cell: `Shift`+`Return`\n",
    "* Keyboard shortcuts in command mode: `a`, `b`, `x`, `c`, `v`, `dd`, `z`\n",
    "* \"Restart kernel and run all cells\""
   ]
  },
  {
   "cell_type": "code",
   "execution_count": null,
   "metadata": {
    "id": "YpJWdzJLIUKm"
   },
   "outputs": [],
   "source": [
    "x = 10"
   ]
  },
  {
   "cell_type": "code",
   "execution_count": null,
   "metadata": {
    "id": "TVE6vv8pA5V6"
   },
   "outputs": [],
   "source": [
    "y = 1"
   ]
  },
  {
   "cell_type": "code",
   "execution_count": null,
   "metadata": {
    "id": "hJD1HESCPne-"
   },
   "outputs": [],
   "source": [
    "x + y  # during interactive Jupyter or IPython session, this is the same as print(x+y)"
   ]
  },
  {
   "cell_type": "code",
   "execution_count": null,
   "metadata": {
    "id": "xPrIgX-NDtab"
   },
   "outputs": [],
   "source": [
    "y = 20"
   ]
  },
  {
   "cell_type": "markdown",
   "metadata": {
    "id": "PeKpqHo1CcM5"
   },
   "source": [
    "\n",
    "## 1.3 Useful tricks\n",
    "\n",
    "Markdown allows rich content: images, equations, HTML.  Example of a LaTeX equation that you can edit:\n",
    "\n",
    "$$\n",
    "  \\sum_{n=0}^{\\infty} \\frac{1}{x^n} = \\frac{1}{1-1/x}\n",
    "$$\n",
    "\n",
    "The IPython kernel within Jupyter has many useful tricks.  Let's look at a few:\n",
    "* `?` to get help, `??` to look at source.\n",
    "* `%pwd`, `%history`\n",
    "* `%%timeit` to benchmark your code\n",
    "* `%matplotlib inline`\n",
    "* `%load_ext autoreload`"
   ]
  },
  {
   "cell_type": "code",
   "execution_count": null,
   "metadata": {
    "id": "Cpd9E6rzMdye"
   },
   "outputs": [],
   "source": [
    "range?"
   ]
  },
  {
   "cell_type": "code",
   "execution_count": null,
   "metadata": {
    "id": "SeaozGupMkJp"
   },
   "outputs": [],
   "source": [
    "for x in range(10):\n",
    "    print(x)"
   ]
  },
  {
   "cell_type": "code",
   "execution_count": null,
   "metadata": {
    "id": "g1CjU7WtNGXp"
   },
   "outputs": [],
   "source": [
    "#%%timeit\n",
    "x = 0\n",
    "for y in range(10000):\n",
    "    x += y\n",
    "print(x)"
   ]
  },
  {
   "cell_type": "code",
   "execution_count": null,
   "metadata": {
    "id": "o8aHGAYENYPm"
   },
   "outputs": [],
   "source": [
    "np.arange?"
   ]
  },
  {
   "cell_type": "code",
   "execution_count": null,
   "metadata": {
    "id": "vnwJTNUfPqP3"
   },
   "outputs": [],
   "source": [
    "np.arange??"
   ]
  },
  {
   "cell_type": "code",
   "execution_count": null,
   "metadata": {
    "id": "jAU1dZd5NeEJ"
   },
   "outputs": [],
   "source": [
    "for x in np.arange(10):\n",
    "    print(x)"
   ]
  },
  {
   "cell_type": "code",
   "execution_count": null,
   "metadata": {
    "id": "H_-fRNYmNhnD"
   },
   "outputs": [],
   "source": [
    "#%%timeit\n",
    "x = np.sum(np.arange(10000))\n",
    "print(x)"
   ]
  },
  {
   "cell_type": "code",
   "execution_count": null,
   "metadata": {
    "id": "HsRk_MaKKD2N"
   },
   "outputs": [],
   "source": [
    "%pwd"
   ]
  },
  {
   "cell_type": "code",
   "execution_count": null,
   "metadata": {
    "id": "Xet8gyxNY_SM"
   },
   "outputs": [],
   "source": [
    "%history -l 5"
   ]
  },
  {
   "cell_type": "code",
   "execution_count": null,
   "metadata": {
    "id": "a5otGw0TQPF4"
   },
   "outputs": [],
   "source": [
    "x = np.arange(100)\n",
    "y = np.random.random(100)"
   ]
  },
  {
   "cell_type": "code",
   "execution_count": null,
   "metadata": {
    "id": "-QU8hUPxQVbF"
   },
   "outputs": [],
   "source": [
    "plt.plot(x,y)\n",
    "plt.show()"
   ]
  },
  {
   "cell_type": "code",
   "execution_count": null,
   "metadata": {
    "id": "P4ecykqqQgCe"
   },
   "outputs": [],
   "source": [
    "%matplotlib inline"
   ]
  },
  {
   "cell_type": "code",
   "execution_count": null,
   "metadata": {
    "id": "FXGmPEY1RJnM"
   },
   "outputs": [],
   "source": [
    "import my_module"
   ]
  },
  {
   "cell_type": "code",
   "execution_count": null,
   "metadata": {
    "id": "e2LWfsrrRLW2"
   },
   "outputs": [],
   "source": [
    "my_module.foobar(10)"
   ]
  },
  {
   "cell_type": "code",
   "execution_count": null,
   "metadata": {
    "id": "Uy6PcUHzQcbC"
   },
   "outputs": [],
   "source": [
    "%load_ext autoreload\n",
    "\n",
    "%autoreload 2"
   ]
  },
  {
   "cell_type": "markdown",
   "metadata": {
    "id": "LUgzLNbrMVae"
   },
   "source": [
    "## 1.4 Other notes\n",
    "\n",
    "* How to run Jupyter notebook from a remote computer (e.g., if you have many GB or TB of data that won't fit on your computer): https://confluence.columbia.edu/confluence/display/rcs/Ginsburg+-+Job+Examples#GinsburgJobExamples-JupyterNotebooks\n",
    "\n",
    "## 1.5 References and Further Reading\n",
    "\n",
    "* Intro to Python, Jupyter, Pandas, Matplotlib: http://swcarpentry.github.io/python-novice-gapminder/\n",
    "\n",
    "* IPython magic commands (`%` and `%%`): https://ipython.readthedocs.io/en/stable/interactive/magics.html\n",
    "\n",
    "* IPython autoreload: https://ipython.readthedocs.io/en/stable/config/extensions/autoreload.html"
   ]
  },
  {
   "cell_type": "markdown",
   "metadata": {
    "id": "4RWtVNG3DzxE"
   },
   "source": [
    "# 2. Getting the most out of NumPy"
   ]
  },
  {
   "cell_type": "markdown",
   "metadata": {
    "id": "AGjVXg9nun8k"
   },
   "source": [
    "Python, in general, is slow; compared to compiled languages like C and Fortran, Python is woefully inefficient. But, this is where the magic of NumPy come into play: by wrapping C data structures and methods in Python commands, NumPy drastically speeds up array operations and numerical calculations. Learning to use NumPy properly "
   ]
  },
  {
   "cell_type": "code",
   "execution_count": null,
   "metadata": {
    "id": "_3NkNqi9uGFU"
   },
   "outputs": [],
   "source": [
    "# python lists vs. numpy arrays; memory comparison and append comparison"
   ]
  },
  {
   "cell_type": "code",
   "execution_count": null,
   "metadata": {
    "id": "2od4uF1Pmazy"
   },
   "outputs": [],
   "source": [
    "# loop vs. array operations demo; examples of where we can get rid of loops"
   ]
  },
  {
   "cell_type": "code",
   "execution_count": null,
   "metadata": {
    "id": "Vp4-oHyxuFSb"
   },
   "outputs": [],
   "source": [
    "# array slicing, np.where, and masking"
   ]
  },
  {
   "cell_type": "code",
   "execution_count": null,
   "metadata": {
    "id": "Z6m58IdNWEyC"
   },
   "outputs": [],
   "source": [
    "# np.vectorize and numpy functional programming"
   ]
  },
  {
   "cell_type": "markdown",
   "metadata": {
    "id": "MaaadGSOW-Mp"
   },
   "source": [
    "This is an introduction to stuff "
   ]
  },
  {
   "cell_type": "code",
   "execution_count": null,
   "metadata": {
    "id": "GLLBAhA1WFtd"
   },
   "outputs": [],
   "source": [
    "# Alina's stuff"
   ]
  },
  {
   "cell_type": "code",
   "execution_count": null,
   "metadata": {
    "id": "rdJMf5SsWr_w"
   },
   "outputs": [],
   "source": [
    "# Useful Scipy functions (scipy.)"
   ]
  },
  {
   "cell_type": "code",
   "execution_count": null,
   "metadata": {
    "id": "QwnLl2_Yo7SU"
   },
   "outputs": [],
   "source": [
    "from scipy.optimize import curve_fit, fsolve\n",
    "from scipy import interpolate"
   ]
  },
  {
   "cell_type": "code",
   "execution_count": null,
   "metadata": {
    "id": "Hs2GxZRkVaan"
   },
   "outputs": [],
   "source": [
    "#define Planck's function\n",
    "def BB_lambdaT(l, T):\n",
    "  \n",
    "  #define constants (SI units)\n",
    "  hplanck=6.62607015e-34 #m^2kg/s\n",
    "  clight=299792458. #m/s\n",
    "  kb=1.380649e-23 #m^2kg/(s^2K^1)\n",
    "  \n",
    "  return (2.*hplanck*clight**2/l**5)/(np.exp(hplanck*clight/(l*kb*T))-1.)\n"
   ]
  },
  {
   "cell_type": "code",
   "execution_count": null,
   "metadata": {
    "id": "JJ8wxZZlVa9R"
   },
   "outputs": [],
   "source": [
    "\n",
    "lambda_sun=np.linspace(100e-9, 2000e-9, 100) #wavelength range [m]\n",
    "T_sun=5778 # sun's temp [K]\n",
    "sun_BB=BB_lambdaT(lambda_sun, T_sun)\n",
    "noise=0.2*np.random.normal(size=len(lambda_sun))\n",
    "sun_data=BB_sun+noise"
   ]
  },
  {
   "cell_type": "code",
   "execution_count": null,
   "metadata": {
    "id": "eorzp5GrdHZV"
   },
   "outputs": [],
   "source": [
    "BB_params, BB_cov = curve_fit(BB_lambdaT, sun_data, ydata)"
   ]
  },
  {
   "cell_type": "code",
   "execution_count": null,
   "metadata": {
    "colab": {
     "base_uri": "https://localhost:8080/",
     "height": 297
    },
    "id": "vRb7DN1VaAfS",
    "outputId": "41333cf8-2ec7-47cb-d57b-ccedd99a65cd"
   },
   "outputs": [
    {
     "data": {
      "text/plain": [
       "Text(0, 0.5, 'intensity [kW/m$^{2}$/nm]')"
      ]
     },
     "execution_count": 53,
     "metadata": {},
     "output_type": "execute_result"
    },
    {
     "data": {
      "image/png": "[encoded data removed]",
      "text/plain": [
       "<Figure size 432x288 with 1 Axes>"
      ]
     },
     "metadata": {
      "needs_background": "light"
     },
     "output_type": "display_data"
    }
   ],
   "source": [
    "plt.figure()\n",
    "plt.scatter(lambda_sun*1.e9, BB_sun_data/1.e12, marker='o',label='data', color='magenta')\n",
    "plt.xlabel('wavelength [nm]')\n",
    "plt.ylabel(r'intensity [kW/m$^{2}$/nm]')"
   ]
  },
  {
   "cell_type": "code",
   "execution_count": null,
   "metadata": {
    "id": "gRlu9oMZXEcl"
   },
   "outputs": [],
   "source": [
    "## curve_fit"
   ]
  },
  {
   "cell_type": "code",
   "execution_count": null,
   "metadata": {
    "id": "88Gsh5ndXG1_"
   },
   "outputs": [],
   "source": [
    "## interpolate"
   ]
  },
  {
   "cell_type": "code",
   "execution_count": null,
   "metadata": {
    "id": "SNuoQhiMXIPB"
   },
   "outputs": [],
   "source": [
    "## "
   ]
  },
  {
   "cell_type": "code",
   "execution_count": null,
   "metadata": {
    "id": "WQfDVXGHW_6I"
   },
   "outputs": [],
   "source": [
    "# Reading & Writing Files with NumPy and AstroPy"
   ]
  },
  {
   "cell_type": "code",
   "execution_count": null,
   "metadata": {
    "id": "TCrYxk92W-Kg"
   },
   "outputs": [],
   "source": []
  },
  {
   "cell_type": "markdown",
   "metadata": {
    "id": "Uh6uORTqXAaX"
   },
   "source": [
    "# 4. Check your work -- units in AstroPy\n",
    "\n",
    "What is inside astropy's `units` submodule?  Quoting the [documentation](https://docs.astropy.org/en/stable/units/index.html),\n",
    "\n",
    "> `astropy.units` handles defining, converting between, and performing arithmetic with physical quantities, such as meters, seconds, Hz, etc. It also handles logarithmic units such as magnitude and decibel.\n",
    "> \n",
    "> `astropy.units` does not know spherical geometry or sexagesimal (hours, min, sec): if you want to deal with celestial coordinates, see the `astropy.coordinates` package.\n",
    "\n",
    "Let's have a look at its capabilities."
   ]
  },
  {
   "cell_type": "markdown",
   "metadata": {},
   "source": [
    "## 4.1 Overview of astropy.units\n",
    "\n",
    "Just a glimpse, not comprehensive -- much more is in the documentation and various online tutorials."
   ]
  },
  {
   "cell_type": "code",
   "execution_count": 1,
   "metadata": {
    "id": "hDpeYU8oMAaZ"
   },
   "outputs": [],
   "source": [
    "import numpy as np\n",
    "import matplotlib.pyplot as plt\n",
    "import astropy\n",
    "\n",
    "from astropy import units as u\n",
    "\n",
    "%matplotlib inline"
   ]
  },
  {
   "cell_type": "code",
   "execution_count": 2,
   "metadata": {
    "colab": {
     "base_uri": "https://localhost:8080/",
     "height": 37
    },
    "id": "qDXdmJU5NtO3",
    "outputId": "ecd8f49e-d78f-4a1d-ec45-a9f6e1f0cf3d"
   },
   "outputs": [
    {
     "data": {
      "text/latex": [
       "$\\mathrm{m}$"
      ],
      "text/plain": [
       "Unit(\"m\")"
      ]
     },
     "execution_count": 2,
     "metadata": {},
     "output_type": "execute_result"
    }
   ],
   "source": [
    "u.m"
   ]
  },
  {
   "cell_type": "code",
   "execution_count": 3,
   "metadata": {
    "colab": {
     "base_uri": "https://localhost:8080/",
     "height": 37
    },
    "id": "53pZ7YeSNvpt",
    "outputId": "5656fe71-d30d-4cd1-d390-b366fd727843"
   },
   "outputs": [
    {
     "data": {
      "text/latex": [
       "$\\mathrm{m}$"
      ],
      "text/plain": [
       "Unit(\"m\")"
      ]
     },
     "execution_count": 3,
     "metadata": {},
     "output_type": "execute_result"
    }
   ],
   "source": [
    "u.meter"
   ]
  },
  {
   "cell_type": "code",
   "execution_count": 4,
   "metadata": {
    "colab": {
     "base_uri": "https://localhost:8080/",
     "height": 37
    },
    "id": "G_0qFQk1NyNP",
    "outputId": "858a4a4c-fbc7-412e-d06c-26b1fec45809"
   },
   "outputs": [
    {
     "data": {
      "text/latex": [
       "$\\mathrm{pm}$"
      ],
      "text/plain": [
       "Unit(\"pm\")"
      ]
     },
     "execution_count": 4,
     "metadata": {},
     "output_type": "execute_result"
    }
   ],
   "source": [
    "u.picometer"
   ]
  },
  {
   "cell_type": "code",
   "execution_count": 5,
   "metadata": {
    "colab": {
     "base_uri": "https://localhost:8080/"
    },
    "id": "1AflA3I4N0kW",
    "outputId": "d1eb39b8-7cfb-48c6-d556-4ddf3c669a73"
   },
   "outputs": [
    {
     "data": {
      "text/plain": [
       "1e-12"
      ]
     },
     "execution_count": 5,
     "metadata": {},
     "output_type": "execute_result"
    }
   ],
   "source": [
    "u.picometer.to(u.m)"
   ]
  },
  {
   "cell_type": "code",
   "execution_count": 6,
   "metadata": {
    "id": "f8BIhEJWODdT",
    "scrolled": true
   },
   "outputs": [
    {
     "ename": "UnitConversionError",
     "evalue": "'pm' (length) and 'g' (mass) are not convertible",
     "output_type": "error",
     "traceback": [
      "\u001b[0;31m---------------------------------------------------------------------------\u001b[0m",
      "\u001b[0;31mUnitConversionError\u001b[0m                       Traceback (most recent call last)",
      "\u001b[0;32m<ipython-input-6-927cb145b24d>\u001b[0m in \u001b[0;36m<module>\u001b[0;34m\u001b[0m\n\u001b[0;32m----> 1\u001b[0;31m \u001b[0mu\u001b[0m\u001b[0;34m.\u001b[0m\u001b[0mpicometer\u001b[0m\u001b[0;34m.\u001b[0m\u001b[0mto\u001b[0m\u001b[0;34m(\u001b[0m\u001b[0mu\u001b[0m\u001b[0;34m.\u001b[0m\u001b[0mg\u001b[0m\u001b[0;34m)\u001b[0m\u001b[0;34m\u001b[0m\u001b[0;34m\u001b[0m\u001b[0m\n\u001b[0m",
      "\u001b[0;32m~/anaconda3/lib/python3.7/site-packages/astropy/units/core.py\u001b[0m in \u001b[0;36mto\u001b[0;34m(self, other, value, equivalencies)\u001b[0m\n\u001b[1;32m    987\u001b[0m             \u001b[0;32mreturn\u001b[0m \u001b[0mUNITY\u001b[0m\u001b[0;34m\u001b[0m\u001b[0;34m\u001b[0m\u001b[0m\n\u001b[1;32m    988\u001b[0m         \u001b[0;32melse\u001b[0m\u001b[0;34m:\u001b[0m\u001b[0;34m\u001b[0m\u001b[0;34m\u001b[0m\u001b[0m\n\u001b[0;32m--> 989\u001b[0;31m             \u001b[0;32mreturn\u001b[0m \u001b[0mself\u001b[0m\u001b[0;34m.\u001b[0m\u001b[0m_get_converter\u001b[0m\u001b[0;34m(\u001b[0m\u001b[0mother\u001b[0m\u001b[0;34m,\u001b[0m \u001b[0mequivalencies\u001b[0m\u001b[0;34m=\u001b[0m\u001b[0mequivalencies\u001b[0m\u001b[0;34m)\u001b[0m\u001b[0;34m(\u001b[0m\u001b[0mvalue\u001b[0m\u001b[0;34m)\u001b[0m\u001b[0;34m\u001b[0m\u001b[0;34m\u001b[0m\u001b[0m\n\u001b[0m\u001b[1;32m    990\u001b[0m \u001b[0;34m\u001b[0m\u001b[0m\n\u001b[1;32m    991\u001b[0m     \u001b[0;32mdef\u001b[0m \u001b[0min_units\u001b[0m\u001b[0;34m(\u001b[0m\u001b[0mself\u001b[0m\u001b[0;34m,\u001b[0m \u001b[0mother\u001b[0m\u001b[0;34m,\u001b[0m \u001b[0mvalue\u001b[0m\u001b[0;34m=\u001b[0m\u001b[0;36m1.0\u001b[0m\u001b[0;34m,\u001b[0m \u001b[0mequivalencies\u001b[0m\u001b[0;34m=\u001b[0m\u001b[0;34m[\u001b[0m\u001b[0;34m]\u001b[0m\u001b[0;34m)\u001b[0m\u001b[0;34m:\u001b[0m\u001b[0;34m\u001b[0m\u001b[0;34m\u001b[0m\u001b[0m\n",
      "\u001b[0;32m~/anaconda3/lib/python3.7/site-packages/astropy/units/core.py\u001b[0m in \u001b[0;36m_get_converter\u001b[0;34m(self, other, equivalencies)\u001b[0m\n\u001b[1;32m    918\u001b[0m                             \u001b[0;32mpass\u001b[0m\u001b[0;34m\u001b[0m\u001b[0;34m\u001b[0m\u001b[0m\n\u001b[1;32m    919\u001b[0m \u001b[0;34m\u001b[0m\u001b[0m\n\u001b[0;32m--> 920\u001b[0;31m             \u001b[0;32mraise\u001b[0m \u001b[0mexc\u001b[0m\u001b[0;34m\u001b[0m\u001b[0;34m\u001b[0m\u001b[0m\n\u001b[0m\u001b[1;32m    921\u001b[0m \u001b[0;34m\u001b[0m\u001b[0m\n\u001b[1;32m    922\u001b[0m     \u001b[0;32mdef\u001b[0m \u001b[0m_to\u001b[0m\u001b[0;34m(\u001b[0m\u001b[0mself\u001b[0m\u001b[0;34m,\u001b[0m \u001b[0mother\u001b[0m\u001b[0;34m)\u001b[0m\u001b[0;34m:\u001b[0m\u001b[0;34m\u001b[0m\u001b[0;34m\u001b[0m\u001b[0m\n",
      "\u001b[0;32m~/anaconda3/lib/python3.7/site-packages/astropy/units/core.py\u001b[0m in \u001b[0;36m_get_converter\u001b[0;34m(self, other, equivalencies)\u001b[0m\n\u001b[1;32m    904\u001b[0m         \u001b[0;32mtry\u001b[0m\u001b[0;34m:\u001b[0m\u001b[0;34m\u001b[0m\u001b[0;34m\u001b[0m\u001b[0m\n\u001b[1;32m    905\u001b[0m             return self._apply_equivalencies(\n\u001b[0;32m--> 906\u001b[0;31m                 self, other, self._normalize_equivalencies(equivalencies))\n\u001b[0m\u001b[1;32m    907\u001b[0m         \u001b[0;32mexcept\u001b[0m \u001b[0mUnitsError\u001b[0m \u001b[0;32mas\u001b[0m \u001b[0mexc\u001b[0m\u001b[0;34m:\u001b[0m\u001b[0;34m\u001b[0m\u001b[0;34m\u001b[0m\u001b[0m\n\u001b[1;32m    908\u001b[0m             \u001b[0;31m# Last hope: maybe other knows how to do it?\u001b[0m\u001b[0;34m\u001b[0m\u001b[0;34m\u001b[0m\u001b[0;34m\u001b[0m\u001b[0m\n",
      "\u001b[0;32m~/anaconda3/lib/python3.7/site-packages/astropy/units/core.py\u001b[0m in \u001b[0;36m_apply_equivalencies\u001b[0;34m(self, unit, other, equivalencies)\u001b[0m\n\u001b[1;32m    888\u001b[0m         raise UnitConversionError(\n\u001b[1;32m    889\u001b[0m             \"{0} and {1} are not convertible\".format(\n\u001b[0;32m--> 890\u001b[0;31m                 unit_str, other_str))\n\u001b[0m\u001b[1;32m    891\u001b[0m \u001b[0;34m\u001b[0m\u001b[0m\n\u001b[1;32m    892\u001b[0m     \u001b[0;32mdef\u001b[0m \u001b[0m_get_converter\u001b[0m\u001b[0;34m(\u001b[0m\u001b[0mself\u001b[0m\u001b[0;34m,\u001b[0m \u001b[0mother\u001b[0m\u001b[0;34m,\u001b[0m \u001b[0mequivalencies\u001b[0m\u001b[0;34m=\u001b[0m\u001b[0;34m[\u001b[0m\u001b[0;34m]\u001b[0m\u001b[0;34m)\u001b[0m\u001b[0;34m:\u001b[0m\u001b[0;34m\u001b[0m\u001b[0;34m\u001b[0m\u001b[0m\n",
      "\u001b[0;31mUnitConversionError\u001b[0m: 'pm' (length) and 'g' (mass) are not convertible"
     ]
    }
   ],
   "source": [
    "u.picometer.to(u.g)"
   ]
  },
  {
   "cell_type": "code",
   "execution_count": 7,
   "metadata": {},
   "outputs": [],
   "source": [
    "force = 5 * u.m * u.kg / u.s**2"
   ]
  },
  {
   "cell_type": "code",
   "execution_count": 8,
   "metadata": {},
   "outputs": [
    {
     "data": {
      "text/latex": [
       "$5 \\; \\mathrm{\\frac{kg\\,m}{s^{2}}}$"
      ],
      "text/plain": [
       "<Quantity 5. kg m / s2>"
      ]
     },
     "execution_count": 8,
     "metadata": {},
     "output_type": "execute_result"
    }
   ],
   "source": [
    "force"
   ]
  },
  {
   "cell_type": "code",
   "execution_count": 9,
   "metadata": {},
   "outputs": [
    {
     "data": {
      "text/latex": [
       "$\\mathrm{\\frac{kg\\,m}{s^{2}}}$"
      ],
      "text/plain": [
       "Unit(\"kg m / s2\")"
      ]
     },
     "execution_count": 9,
     "metadata": {},
     "output_type": "execute_result"
    }
   ],
   "source": [
    "force.unit"
   ]
  },
  {
   "cell_type": "code",
   "execution_count": 10,
   "metadata": {},
   "outputs": [
    {
     "data": {
      "text/plain": [
       "5.0"
      ]
     },
     "execution_count": 10,
     "metadata": {},
     "output_type": "execute_result"
    }
   ],
   "source": [
    "force.value"
   ]
  },
  {
   "cell_type": "code",
   "execution_count": 11,
   "metadata": {},
   "outputs": [
    {
     "data": {
      "text/latex": [
       "$5 \\; \\mathrm{N}$"
      ],
      "text/plain": [
       "<Quantity 5. N>"
      ]
     },
     "execution_count": 11,
     "metadata": {},
     "output_type": "execute_result"
    }
   ],
   "source": [
    "force.to(u.N)"
   ]
  },
  {
   "cell_type": "code",
   "execution_count": 12,
   "metadata": {},
   "outputs": [
    {
     "data": {
      "text/latex": [
       "$500000 \\; \\mathrm{dyn}$"
      ],
      "text/plain": [
       "<Quantity 500000. dyn>"
      ]
     },
     "execution_count": 12,
     "metadata": {},
     "output_type": "execute_result"
    }
   ],
   "source": [
    "force.cgs"
   ]
  },
  {
   "cell_type": "markdown",
   "metadata": {},
   "source": [
    "## 4.2 Doing math with units\n",
    "\n",
    "Let's return to the Planck blackbody function as a motivating example.\n",
    "\n",
    "$$\n",
    "    B_{\\lambda}(\\lambda, T)\n",
    "    = \\frac{2 h c^2}{\\lambda^5}\n",
    "    \\frac{1}{\\exp\\left(\\frac{hc}{\\lambda k_B T} -1\\right)}\n",
    "$$\n",
    "\n",
    "with Planck's constant $h$, speed of light $c$, and Boltzmann constant $k_B$.\n",
    "\n",
    "Planck's function, expressed in per-wavelength form ($B_\\lambda$ rather than $B_\\nu$), has units of radiance per wavelength.  That is power, per steradian, per area, per wavelength.  Phew!\n",
    "\n",
    "\n",
    "How would we program this function with units?  How does having units help us?  First, let's write down the expected units in \"reduced\" form -- astropy can help us with this, again."
   ]
  },
  {
   "cell_type": "code",
   "execution_count": 43,
   "metadata": {},
   "outputs": [
    {
     "data": {
      "text/latex": [
       "$\\mathrm{\\frac{W}{sr\\,m^{3}}}$"
      ],
      "text/plain": [
       "Unit(\"W / (m3 sr)\")"
      ]
     },
     "execution_count": 43,
     "metadata": {},
     "output_type": "execute_result"
    }
   ],
   "source": [
    "u.Watt / u.steradian / u.m**2 / u.m"
   ]
  },
  {
   "cell_type": "code",
   "execution_count": 44,
   "metadata": {},
   "outputs": [
    {
     "data": {
      "text/latex": [
       "$\\mathrm{\\frac{kg}{m\\,rad^{2}\\,s^{3}}}$"
      ],
      "text/plain": [
       "Unit(\"kg / (m rad2 s3)\")"
      ]
     },
     "execution_count": 44,
     "metadata": {},
     "output_type": "execute_result"
    }
   ],
   "source": [
    "(u.Watt / u.steradian / u.m**2 / u.m).decompose()"
   ]
  },
  {
   "cell_type": "code",
   "execution_count": 13,
   "metadata": {},
   "outputs": [],
   "source": [
    "#define Planck's function\n",
    "def BB_lambdaT(l, T):\n",
    "    #define constants (SI units)\n",
    "    hplanck=6.62607015e-34 #m^2kg/s\n",
    "    clight=299792458. #m/s\n",
    "    kb=1.380649e-23 #m^2kg/(s^2K^1)\n",
    "    return (2.*hplanck*clight**2/l**5)/(np.exp(hplanck*clight/(l*kb*T))-1.)"
   ]
  },
  {
   "cell_type": "code",
   "execution_count": 14,
   "metadata": {},
   "outputs": [],
   "source": [
    "from astropy import constants as const"
   ]
  },
  {
   "cell_type": "code",
   "execution_count": 15,
   "metadata": {},
   "outputs": [
    {
     "data": {
      "text/latex": [
       "$6.62607 \\times 10^{-34} \\; \\mathrm{J\\,s}$"
      ],
      "text/plain": [
       "<<class 'astropy.constants.codata2014.CODATA2014'> name='Planck constant' value=6.62607004e-34 uncertainty=8.1e-42 unit='J s' reference='CODATA 2014'>"
      ]
     },
     "execution_count": 15,
     "metadata": {},
     "output_type": "execute_result"
    }
   ],
   "source": [
    "const.h"
   ]
  },
  {
   "cell_type": "code",
   "execution_count": 16,
   "metadata": {},
   "outputs": [
    {
     "data": {
      "text/latex": [
       "$2.9979246 \\times 10^{8} \\; \\mathrm{\\frac{m}{s}}$"
      ],
      "text/plain": [
       "<<class 'astropy.constants.codata2014.CODATA2014'> name='Speed of light in vacuum' value=299792458.0 uncertainty=0.0 unit='m / s' reference='CODATA 2014'>"
      ]
     },
     "execution_count": 16,
     "metadata": {},
     "output_type": "execute_result"
    }
   ],
   "source": [
    "const.c"
   ]
  },
  {
   "cell_type": "code",
   "execution_count": 17,
   "metadata": {},
   "outputs": [
    {
     "data": {
      "text/latex": [
       "$1.3806485 \\times 10^{-23} \\; \\mathrm{\\frac{J}{K}}$"
      ],
      "text/plain": [
       "<<class 'astropy.constants.codata2014.CODATA2014'> name='Boltzmann constant' value=1.38064852e-23 uncertainty=7.9e-30 unit='J / K' reference='CODATA 2014'>"
      ]
     },
     "execution_count": 17,
     "metadata": {},
     "output_type": "execute_result"
    }
   ],
   "source": [
    "const.k_B"
   ]
  },
  {
   "cell_type": "code",
   "execution_count": 18,
   "metadata": {},
   "outputs": [],
   "source": [
    "def BB_lambdaT(l, T):\n",
    "    \"\"\"\n",
    "    Planck's blackbody function per unit wavelength, which has units of\n",
    "    power per solid angle per unit area per unit wavelength.\n",
    "    \n",
    "    Arguments:\n",
    "        l: wavelength in astropy units (length)\n",
    "        T: temperature in astropy units (Kelvin)\n",
    "    Returns:\n",
    "        value(s) of Planck's function evaluated at (l, T) with astropy units attached\n",
    "    \"\"\"\n",
    "    hplanck = const.h\n",
    "    clight = const.c\n",
    "    kb = const.k_B\n",
    "    return (2.*hplanck*clight**2/l**5)/(np.exp(hplanck*clight/(l*kb*T))-1.)"
   ]
  },
  {
   "cell_type": "markdown",
   "metadata": {},
   "source": [
    "Now, if we forget to put in units, we get a `UnitConversionError`."
   ]
  },
  {
   "cell_type": "code",
   "execution_count": 19,
   "metadata": {
    "scrolled": true
   },
   "outputs": [
    {
     "ename": "UnitTypeError",
     "evalue": "Can only apply 'exp' function to dimensionless quantities",
     "output_type": "error",
     "traceback": [
      "\u001b[0;31m---------------------------------------------------------------------------\u001b[0m",
      "\u001b[0;31mUnitConversionError\u001b[0m                       Traceback (most recent call last)",
      "\u001b[0;32m~/anaconda3/lib/python3.7/site-packages/astropy/units/quantity_helper/helpers.py\u001b[0m in \u001b[0;36mget_converter\u001b[0;34m(from_unit, to_unit)\u001b[0m\n\u001b[1;32m     31\u001b[0m     \u001b[0;32mtry\u001b[0m\u001b[0;34m:\u001b[0m\u001b[0;34m\u001b[0m\u001b[0;34m\u001b[0m\u001b[0m\n\u001b[0;32m---> 32\u001b[0;31m         \u001b[0mscale\u001b[0m \u001b[0;34m=\u001b[0m \u001b[0mfrom_unit\u001b[0m\u001b[0;34m.\u001b[0m\u001b[0m_to\u001b[0m\u001b[0;34m(\u001b[0m\u001b[0mto_unit\u001b[0m\u001b[0;34m)\u001b[0m\u001b[0;34m\u001b[0m\u001b[0;34m\u001b[0m\u001b[0m\n\u001b[0m\u001b[1;32m     33\u001b[0m     \u001b[0;32mexcept\u001b[0m \u001b[0mUnitsError\u001b[0m\u001b[0;34m:\u001b[0m\u001b[0;34m\u001b[0m\u001b[0;34m\u001b[0m\u001b[0m\n",
      "\u001b[0;32m~/anaconda3/lib/python3.7/site-packages/astropy/units/core.py\u001b[0m in \u001b[0;36m_to\u001b[0;34m(self, other)\u001b[0m\n\u001b[1;32m    952\u001b[0m         raise UnitConversionError(\n\u001b[0;32m--> 953\u001b[0;31m             \"'{0!r}' is not a scaled version of '{1!r}'\".format(self, other))\n\u001b[0m\u001b[1;32m    954\u001b[0m \u001b[0;34m\u001b[0m\u001b[0m\n",
      "\u001b[0;31mUnitConversionError\u001b[0m: 'Unit(\"K m\")' is not a scaled version of 'Unit(dimensionless)'",
      "\nDuring handling of the above exception, another exception occurred:\n",
      "\u001b[0;31mUnitConversionError\u001b[0m                       Traceback (most recent call last)",
      "\u001b[0;32m~/anaconda3/lib/python3.7/site-packages/astropy/units/quantity_helper/helpers.py\u001b[0m in \u001b[0;36mhelper_dimensionless_to_dimensionless\u001b[0;34m(f, unit)\u001b[0m\n\u001b[1;32m    146\u001b[0m     \u001b[0;32mtry\u001b[0m\u001b[0;34m:\u001b[0m\u001b[0;34m\u001b[0m\u001b[0;34m\u001b[0m\u001b[0m\n\u001b[0;32m--> 147\u001b[0;31m         return ([get_converter(unit, dimensionless_unscaled)],\n\u001b[0m\u001b[1;32m    148\u001b[0m                 dimensionless_unscaled)\n",
      "\u001b[0;32m~/anaconda3/lib/python3.7/site-packages/astropy/units/quantity_helper/helpers.py\u001b[0m in \u001b[0;36mget_converter\u001b[0;34m(from_unit, to_unit)\u001b[0m\n\u001b[1;32m     34\u001b[0m         return from_unit._apply_equivalencies(\n\u001b[0;32m---> 35\u001b[0;31m                 from_unit, to_unit, get_current_unit_registry().equivalencies)\n\u001b[0m\u001b[1;32m     36\u001b[0m     \u001b[0;32mexcept\u001b[0m \u001b[0mAttributeError\u001b[0m\u001b[0;34m:\u001b[0m\u001b[0;34m\u001b[0m\u001b[0;34m\u001b[0m\u001b[0m\n",
      "\u001b[0;32m~/anaconda3/lib/python3.7/site-packages/astropy/units/core.py\u001b[0m in \u001b[0;36m_apply_equivalencies\u001b[0;34m(self, unit, other, equivalencies)\u001b[0m\n\u001b[1;32m    889\u001b[0m             \"{0} and {1} are not convertible\".format(\n\u001b[0;32m--> 890\u001b[0;31m                 unit_str, other_str))\n\u001b[0m\u001b[1;32m    891\u001b[0m \u001b[0;34m\u001b[0m\u001b[0m\n",
      "\u001b[0;31mUnitConversionError\u001b[0m: 'K m' and '' (dimensionless) are not convertible",
      "\nDuring handling of the above exception, another exception occurred:\n",
      "\u001b[0;31mUnitTypeError\u001b[0m                             Traceback (most recent call last)",
      "\u001b[0;32m<ipython-input-19-c1b79673abce>\u001b[0m in \u001b[0;36m<module>\u001b[0;34m\u001b[0m\n\u001b[1;32m      1\u001b[0m \u001b[0mlambda_sun\u001b[0m \u001b[0;34m=\u001b[0m \u001b[0mnp\u001b[0m\u001b[0;34m.\u001b[0m\u001b[0mlinspace\u001b[0m\u001b[0;34m(\u001b[0m\u001b[0;36m100e-9\u001b[0m\u001b[0;34m,\u001b[0m \u001b[0;36m2000e-9\u001b[0m\u001b[0;34m,\u001b[0m \u001b[0;36m100\u001b[0m\u001b[0;34m)\u001b[0m \u001b[0;31m#wavelength range [m]\u001b[0m\u001b[0;34m\u001b[0m\u001b[0;34m\u001b[0m\u001b[0m\n\u001b[1;32m      2\u001b[0m \u001b[0mT_sun\u001b[0m \u001b[0;34m=\u001b[0m \u001b[0;36m5778\u001b[0m \u001b[0;31m# sun's temp [K]\u001b[0m\u001b[0;34m\u001b[0m\u001b[0;34m\u001b[0m\u001b[0m\n\u001b[0;32m----> 3\u001b[0;31m \u001b[0msun_BB\u001b[0m \u001b[0;34m=\u001b[0m \u001b[0mBB_lambdaT\u001b[0m\u001b[0;34m(\u001b[0m\u001b[0mlambda_sun\u001b[0m\u001b[0;34m,\u001b[0m \u001b[0mT_sun\u001b[0m\u001b[0;34m)\u001b[0m\u001b[0;34m\u001b[0m\u001b[0;34m\u001b[0m\u001b[0m\n\u001b[0m",
      "\u001b[0;32m<ipython-input-18-e766a1f56ca3>\u001b[0m in \u001b[0;36mBB_lambdaT\u001b[0;34m(l, T)\u001b[0m\n\u001b[1;32m     13\u001b[0m     \u001b[0mclight\u001b[0m \u001b[0;34m=\u001b[0m \u001b[0mconst\u001b[0m\u001b[0;34m.\u001b[0m\u001b[0mc\u001b[0m\u001b[0;34m\u001b[0m\u001b[0;34m\u001b[0m\u001b[0m\n\u001b[1;32m     14\u001b[0m     \u001b[0mkb\u001b[0m \u001b[0;34m=\u001b[0m \u001b[0mconst\u001b[0m\u001b[0;34m.\u001b[0m\u001b[0mk_B\u001b[0m\u001b[0;34m\u001b[0m\u001b[0;34m\u001b[0m\u001b[0m\n\u001b[0;32m---> 15\u001b[0;31m     \u001b[0;32mreturn\u001b[0m \u001b[0;34m(\u001b[0m\u001b[0;36m2.\u001b[0m\u001b[0;34m*\u001b[0m\u001b[0mhplanck\u001b[0m\u001b[0;34m*\u001b[0m\u001b[0mclight\u001b[0m\u001b[0;34m**\u001b[0m\u001b[0;36m2\u001b[0m\u001b[0;34m/\u001b[0m\u001b[0ml\u001b[0m\u001b[0;34m**\u001b[0m\u001b[0;36m5\u001b[0m\u001b[0;34m)\u001b[0m\u001b[0;34m/\u001b[0m\u001b[0;34m(\u001b[0m\u001b[0mnp\u001b[0m\u001b[0;34m.\u001b[0m\u001b[0mexp\u001b[0m\u001b[0;34m(\u001b[0m\u001b[0mhplanck\u001b[0m\u001b[0;34m*\u001b[0m\u001b[0mclight\u001b[0m\u001b[0;34m/\u001b[0m\u001b[0;34m(\u001b[0m\u001b[0ml\u001b[0m\u001b[0;34m*\u001b[0m\u001b[0mkb\u001b[0m\u001b[0;34m*\u001b[0m\u001b[0mT\u001b[0m\u001b[0;34m)\u001b[0m\u001b[0;34m)\u001b[0m\u001b[0;34m-\u001b[0m\u001b[0;36m1.\u001b[0m\u001b[0;34m)\u001b[0m\u001b[0;34m\u001b[0m\u001b[0;34m\u001b[0m\u001b[0m\n\u001b[0m",
      "\u001b[0;32m~/anaconda3/lib/python3.7/site-packages/astropy/units/quantity.py\u001b[0m in \u001b[0;36m__array_ufunc__\u001b[0;34m(self, function, method, *inputs, **kwargs)\u001b[0m\n\u001b[1;32m    442\u001b[0m         \u001b[0;31m# consistent units between two inputs (e.g., in np.add) --\u001b[0m\u001b[0;34m\u001b[0m\u001b[0;34m\u001b[0m\u001b[0;34m\u001b[0m\u001b[0m\n\u001b[1;32m    443\u001b[0m         \u001b[0;31m# and the unit of the result (or tuple of units for nout > 1).\u001b[0m\u001b[0;34m\u001b[0m\u001b[0;34m\u001b[0m\u001b[0;34m\u001b[0m\u001b[0m\n\u001b[0;32m--> 444\u001b[0;31m         \u001b[0mconverters\u001b[0m\u001b[0;34m,\u001b[0m \u001b[0munit\u001b[0m \u001b[0;34m=\u001b[0m \u001b[0mconverters_and_unit\u001b[0m\u001b[0;34m(\u001b[0m\u001b[0mfunction\u001b[0m\u001b[0;34m,\u001b[0m \u001b[0mmethod\u001b[0m\u001b[0;34m,\u001b[0m \u001b[0;34m*\u001b[0m\u001b[0minputs\u001b[0m\u001b[0;34m)\u001b[0m\u001b[0;34m\u001b[0m\u001b[0;34m\u001b[0m\u001b[0m\n\u001b[0m\u001b[1;32m    445\u001b[0m \u001b[0;34m\u001b[0m\u001b[0m\n\u001b[1;32m    446\u001b[0m         \u001b[0mout\u001b[0m \u001b[0;34m=\u001b[0m \u001b[0mkwargs\u001b[0m\u001b[0;34m.\u001b[0m\u001b[0mget\u001b[0m\u001b[0;34m(\u001b[0m\u001b[0;34m'out'\u001b[0m\u001b[0;34m,\u001b[0m \u001b[0;32mNone\u001b[0m\u001b[0;34m)\u001b[0m\u001b[0;34m\u001b[0m\u001b[0;34m\u001b[0m\u001b[0m\n",
      "\u001b[0;32m~/anaconda3/lib/python3.7/site-packages/astropy/units/quantity_helper/converters.py\u001b[0m in \u001b[0;36mconverters_and_unit\u001b[0;34m(function, method, *args)\u001b[0m\n\u001b[1;32m    164\u001b[0m \u001b[0;34m\u001b[0m\u001b[0m\n\u001b[1;32m    165\u001b[0m         \u001b[0;31m# Determine possible conversion functions, and the result unit.\u001b[0m\u001b[0;34m\u001b[0m\u001b[0;34m\u001b[0m\u001b[0;34m\u001b[0m\u001b[0m\n\u001b[0;32m--> 166\u001b[0;31m         \u001b[0mconverters\u001b[0m\u001b[0;34m,\u001b[0m \u001b[0mresult_unit\u001b[0m \u001b[0;34m=\u001b[0m \u001b[0mufunc_helper\u001b[0m\u001b[0;34m(\u001b[0m\u001b[0mfunction\u001b[0m\u001b[0;34m,\u001b[0m \u001b[0;34m*\u001b[0m\u001b[0munits\u001b[0m\u001b[0;34m)\u001b[0m\u001b[0;34m\u001b[0m\u001b[0;34m\u001b[0m\u001b[0m\n\u001b[0m\u001b[1;32m    167\u001b[0m \u001b[0;34m\u001b[0m\u001b[0m\n\u001b[1;32m    168\u001b[0m         \u001b[0;32mif\u001b[0m \u001b[0many\u001b[0m\u001b[0;34m(\u001b[0m\u001b[0mconverter\u001b[0m \u001b[0;32mis\u001b[0m \u001b[0;32mFalse\u001b[0m \u001b[0;32mfor\u001b[0m \u001b[0mconverter\u001b[0m \u001b[0;32min\u001b[0m \u001b[0mconverters\u001b[0m\u001b[0;34m)\u001b[0m\u001b[0;34m:\u001b[0m\u001b[0;34m\u001b[0m\u001b[0;34m\u001b[0m\u001b[0m\n",
      "\u001b[0;32m~/anaconda3/lib/python3.7/site-packages/astropy/units/quantity_helper/helpers.py\u001b[0m in \u001b[0;36mhelper_dimensionless_to_dimensionless\u001b[0;34m(f, unit)\u001b[0m\n\u001b[1;32m    150\u001b[0m         raise UnitTypeError(\"Can only apply '{0}' function to \"\n\u001b[1;32m    151\u001b[0m                             \u001b[0;34m\"dimensionless quantities\"\u001b[0m\u001b[0;34m\u001b[0m\u001b[0;34m\u001b[0m\u001b[0m\n\u001b[0;32m--> 152\u001b[0;31m                             .format(f.__name__))\n\u001b[0m\u001b[1;32m    153\u001b[0m \u001b[0;34m\u001b[0m\u001b[0m\n\u001b[1;32m    154\u001b[0m \u001b[0;34m\u001b[0m\u001b[0m\n",
      "\u001b[0;31mUnitTypeError\u001b[0m: Can only apply 'exp' function to dimensionless quantities"
     ]
    }
   ],
   "source": [
    "lambda_sun = np.linspace(100e-9, 2000e-9, 100) #wavelength range [m]\n",
    "T_sun = 5778 # sun's temp [K]\n",
    "sun_BB = BB_lambdaT(lambda_sun, T_sun)"
   ]
  },
  {
   "cell_type": "markdown",
   "metadata": {},
   "source": [
    "Let's attach units.  What happens if, hypothetically, we accidentally put the units in backwards?"
   ]
  },
  {
   "cell_type": "code",
   "execution_count": 39,
   "metadata": {},
   "outputs": [],
   "source": [
    "lambda_sun = np.linspace(100e-9, 2000e-9, 100) * u.m\n",
    "T_sun = 5778 * u.K\n",
    "sun_BB = BB_lambdaT(T_sun, lambda_sun)  # this is backwards!"
   ]
  },
  {
   "cell_type": "code",
   "execution_count": 42,
   "metadata": {},
   "outputs": [
    {
     "data": {
      "text/latex": [
       "$\\mathrm{\\frac{m^{4}\\,kg}{rad^{2}\\,s^{3}\\,K^{5}}}$"
      ],
      "text/plain": [
       "Unit(\"kg m4 / (K5 rad2 s3)\")"
      ]
     },
     "execution_count": 42,
     "metadata": {},
     "output_type": "execute_result"
    }
   ],
   "source": [
    "sun_BB.unit.decompose()"
   ]
  },
  {
   "cell_type": "markdown",
   "metadata": {},
   "source": [
    "Let's attach units.  Now it works!"
   ]
  },
  {
   "cell_type": "code",
   "execution_count": 20,
   "metadata": {},
   "outputs": [],
   "source": [
    "lambda_sun = np.linspace(100e-9, 2000e-9, 100) * u.m #wavelength range [m]\n",
    "T_sun = 5778 * u.K # sun's temp [K]\n",
    "sun_BB = BB_lambdaT(lambda_sun, T_sun)"
   ]
  },
  {
   "cell_type": "code",
   "execution_count": 21,
   "metadata": {},
   "outputs": [
    {
     "data": {
      "text/latex": [
       "$\\mathrm{\\frac{J}{s\\,m^{3}}}$"
      ],
      "text/plain": [
       "Unit(\"J / (m3 s)\")"
      ]
     },
     "execution_count": 21,
     "metadata": {},
     "output_type": "execute_result"
    }
   ],
   "source": [
    "sun_BB.unit"
   ]
  },
  {
   "cell_type": "markdown",
   "metadata": {},
   "source": [
    "Woops, we are missing a unit!  We need to attach the \"per-steradian\" piece manually, because steradians don't show up in the constants $h$, $c$, $k_B$, nor in our inputs $\\lambda$, $T$, "
   ]
  },
  {
   "cell_type": "code",
   "execution_count": 22,
   "metadata": {},
   "outputs": [],
   "source": [
    "def BB_lambdaT(l, T):\n",
    "    \"\"\"\n",
    "    Planck's blackbody function per unit wavelength, which has units of\n",
    "    power per solid angle per unit area per unit wavelength.\n",
    "    \n",
    "    Arguments:\n",
    "        l: wavelength in astropy units (length)\n",
    "        T: temperature in astropy units (Kelvin)\n",
    "    Returns:\n",
    "        value(s) of Planck's function evaluated at (l, T) with astropy units attached\n",
    "    \"\"\"\n",
    "    hplanck = const.h\n",
    "    clight = const.c\n",
    "    kb = const.k_B\n",
    "    return (2.*hplanck*clight**2/l**5)/(np.exp(hplanck*clight/(l*kb*T))-1.) / u.sr"
   ]
  },
  {
   "cell_type": "code",
   "execution_count": 29,
   "metadata": {},
   "outputs": [],
   "source": [
    "lambda_sun = np.linspace(100e-9, 2000e-9, 100) * u.m #wavelength range [m]\n",
    "T_sun = 5778 * u.K # sun's temp [K]\n",
    "sun_BB = BB_lambdaT(lambda_sun, T_sun)"
   ]
  },
  {
   "cell_type": "code",
   "execution_count": 30,
   "metadata": {},
   "outputs": [
    {
     "data": {
      "text/latex": [
       "$\\mathrm{\\frac{J}{s\\,sr\\,m^{3}}}$"
      ],
      "text/plain": [
       "Unit(\"J / (m3 s sr)\")"
      ]
     },
     "execution_count": 30,
     "metadata": {},
     "output_type": "execute_result"
    }
   ],
   "source": [
    "sun_BB.unit"
   ]
  },
  {
   "cell_type": "code",
   "execution_count": 31,
   "metadata": {},
   "outputs": [
    {
     "data": {
      "image/png": "[encoded data removed]",
      "text/plain": [
       "<Figure size 432x288 with 1 Axes>"
      ]
     },
     "metadata": {
      "needs_background": "light"
     },
     "output_type": "display_data"
    }
   ],
   "source": [
    "plt.plot(lambda_sun, sun_BB, '.-')\n",
    "plt.show()"
   ]
  },
  {
   "cell_type": "code",
   "execution_count": 32,
   "metadata": {},
   "outputs": [],
   "source": [
    "from astropy import visualization"
   ]
  },
  {
   "cell_type": "code",
   "execution_count": 33,
   "metadata": {},
   "outputs": [
    {
     "data": {
      "text/plain": [
       "\u001b[0;31mSignature:\u001b[0m \u001b[0mastropy\u001b[0m\u001b[0;34m.\u001b[0m\u001b[0mvisualization\u001b[0m\u001b[0;34m.\u001b[0m\u001b[0mquantity_support\u001b[0m\u001b[0;34m(\u001b[0m\u001b[0mformat\u001b[0m\u001b[0;34m=\u001b[0m\u001b[0;34m'latex_inline'\u001b[0m\u001b[0;34m)\u001b[0m\u001b[0;34m\u001b[0m\u001b[0;34m\u001b[0m\u001b[0m\n",
       "\u001b[0;31mDocstring:\u001b[0m\n",
       "Enable support for plotting `astropy.units.Quantity` instances in\n",
       "matplotlib.\n",
       "\n",
       "May be (optionally) used with a ``with`` statement.\n",
       "\n",
       "  >>> import matplotlib.pyplot as plt\n",
       "  >>> from astropy import units as u\n",
       "  >>> from astropy import visualization\n",
       "  >>> with visualization.quantity_support():\n",
       "  ...     plt.figure()\n",
       "  ...     plt.plot([1, 2, 3] * u.m)\n",
       "  [...]\n",
       "  ...     plt.plot([101, 125, 150] * u.cm)\n",
       "  [...]\n",
       "  ...     plt.draw()\n",
       "\n",
       "Parameters\n",
       "----------\n",
       "format : `astropy.units.format.Base` instance or str\n",
       "    The name of a format or a formatter object.  If not\n",
       "    provided, defaults to ``latex_inline``.\n",
       "\u001b[0;31mFile:\u001b[0m      ~/anaconda3/lib/python3.7/site-packages/astropy/visualization/units.py\n",
       "\u001b[0;31mType:\u001b[0m      function\n"
      ]
     },
     "metadata": {},
     "output_type": "display_data"
    }
   ],
   "source": [
    "astropy.visualization.quantity_support?"
   ]
  },
  {
   "cell_type": "code",
   "execution_count": 34,
   "metadata": {},
   "outputs": [
    {
     "data": {
      "image/png": "[encoded data removed]",
      "text/plain": [
       "<Figure size 432x288 with 1 Axes>"
      ]
     },
     "metadata": {
      "needs_background": "light"
     },
     "output_type": "display_data"
    }
   ],
   "source": [
    "with astropy.visualization.quantity_support():\n",
    "    plt.plot(lambda_sun, sun_BB, '.-')\n",
    "    plt.show()"
   ]
  },
  {
   "cell_type": "code",
   "execution_count": 35,
   "metadata": {},
   "outputs": [
    {
     "data": {
      "image/png": "[encoded data removed]",
      "text/plain": [
       "<Figure size 432x288 with 1 Axes>"
      ]
     },
     "metadata": {
      "needs_background": "light"
     },
     "output_type": "display_data"
    }
   ],
   "source": [
    "plt.plot(lambda_sun, sun_BB, '.-')\n",
    "plt.show()"
   ]
  },
  {
   "cell_type": "code",
   "execution_count": 36,
   "metadata": {},
   "outputs": [
    {
     "data": {
      "text/plain": [
       "<astropy.visualization.units.quantity_support.<locals>.MplQuantityConverter at 0x7fb35441edd0>"
      ]
     },
     "execution_count": 36,
     "metadata": {},
     "output_type": "execute_result"
    }
   ],
   "source": [
    "astropy.visualization.quantity_support()"
   ]
  },
  {
   "cell_type": "code",
   "execution_count": 37,
   "metadata": {},
   "outputs": [
    {
     "data": {
      "image/png": "[encoded data removed]",
      "text/plain": [
       "<Figure size 432x288 with 1 Axes>"
      ]
     },
     "metadata": {
      "needs_background": "light"
     },
     "output_type": "display_data"
    }
   ],
   "source": [
    "plt.plot(lambda_sun, sun_BB, '.-')\n",
    "plt.show()"
   ]
  },
  {
   "cell_type": "code",
   "execution_count": 38,
   "metadata": {},
   "outputs": [
    {
     "data": {
      "image/png": "[encoded data removed]",
      "text/plain": [
       "<Figure size 432x288 with 1 Axes>"
      ]
     },
     "metadata": {
      "needs_background": "light"
     },
     "output_type": "display_data"
    }
   ],
   "source": [
    "plt.plot(lambda_sun.to(u.nm), sun_BB, '.-')\n",
    "plt.axvspan(4000*u.Angstrom, 7000*u.Angstrom, facecolor='g', alpha=0.2)\n",
    "plt.show()"
   ]
  },
  {
   "cell_type": "markdown",
   "metadata": {},
   "source": [
    "## 4.3 Extra bits: more defensive programming, making your own code module\n",
    "\n",
    "We've seen that units help us write correct code.\n",
    "\n",
    "As we write our code, units can show whether we have our constants, variables, and exponents all lined up right.\n",
    "\n",
    "And, after writing our code, units can help us catch incorrect inputs.\n",
    "\n",
    "What if we give correct units, but totally un-physical values to the blackbody function?"
   ]
  },
  {
   "cell_type": "code",
   "execution_count": 75,
   "metadata": {},
   "outputs": [
    {
     "data": {
      "text/latex": [
       "$-8.2781597 \\times 10^{-20} \\; \\mathrm{\\frac{J}{s\\,sr\\,m^{3}}}$"
      ],
      "text/plain": [
       "<Quantity -8.27815967e-20 J / (m3 s sr)>"
      ]
     },
     "execution_count": 75,
     "metadata": {},
     "output_type": "execute_result"
    }
   ],
   "source": [
    "BB_lambdaT(-100*u.m, -1000*u.K)"
   ]
  },
  {
   "cell_type": "code",
   "execution_count": 45,
   "metadata": {},
   "outputs": [],
   "source": [
    "def BB_lambdaT(l, T):\n",
    "    \"\"\"\n",
    "    Planck's blackbody function per unit wavelength, which has units of\n",
    "    power per solid angle per unit area per unit wavelength.\n",
    "    \n",
    "    Arguments:\n",
    "        l: wavelength in astropy units (length)\n",
    "        T: temperature in astropy units (Kelvin)\n",
    "    Returns:\n",
    "        value(s) of Planck's function evaluated at (l, T) with astropy units attached\n",
    "    \"\"\"\n",
    "    assert l >= 0\n",
    "    assert T >= 0\n",
    "    hplanck = const.h\n",
    "    clight = const.c\n",
    "    kb = const.k_B\n",
    "    return (2.*hplanck*clight**2/l**5)/(np.exp(hplanck*clight/(l*kb*T))-1.) / u.sr"
   ]
  },
  {
   "cell_type": "code",
   "execution_count": 46,
   "metadata": {},
   "outputs": [
    {
     "ename": "AssertionError",
     "evalue": "",
     "output_type": "error",
     "traceback": [
      "\u001b[0;31m---------------------------------------------------------------------------\u001b[0m",
      "\u001b[0;31mAssertionError\u001b[0m                            Traceback (most recent call last)",
      "\u001b[0;32m<ipython-input-46-b594315fe317>\u001b[0m in \u001b[0;36m<module>\u001b[0;34m\u001b[0m\n\u001b[0;32m----> 1\u001b[0;31m \u001b[0mBB_lambdaT\u001b[0m\u001b[0;34m(\u001b[0m\u001b[0;34m-\u001b[0m\u001b[0;36m100\u001b[0m\u001b[0;34m*\u001b[0m\u001b[0mu\u001b[0m\u001b[0;34m.\u001b[0m\u001b[0mm\u001b[0m\u001b[0;34m,\u001b[0m \u001b[0;34m-\u001b[0m\u001b[0;36m1000\u001b[0m\u001b[0;34m*\u001b[0m\u001b[0mu\u001b[0m\u001b[0;34m.\u001b[0m\u001b[0mK\u001b[0m\u001b[0;34m)\u001b[0m\u001b[0;34m\u001b[0m\u001b[0;34m\u001b[0m\u001b[0m\n\u001b[0m",
      "\u001b[0;32m<ipython-input-45-51634a751031>\u001b[0m in \u001b[0;36mBB_lambdaT\u001b[0;34m(l, T)\u001b[0m\n\u001b[1;32m     10\u001b[0m         \u001b[0mvalue\u001b[0m\u001b[0;34m(\u001b[0m\u001b[0ms\u001b[0m\u001b[0;34m)\u001b[0m \u001b[0mof\u001b[0m \u001b[0mPlanck\u001b[0m\u001b[0;31m'\u001b[0m\u001b[0ms\u001b[0m \u001b[0mfunction\u001b[0m \u001b[0mevaluated\u001b[0m \u001b[0mat\u001b[0m \u001b[0;34m(\u001b[0m\u001b[0ml\u001b[0m\u001b[0;34m,\u001b[0m \u001b[0mT\u001b[0m\u001b[0;34m)\u001b[0m \u001b[0;32mwith\u001b[0m \u001b[0mastropy\u001b[0m \u001b[0munits\u001b[0m \u001b[0mattached\u001b[0m\u001b[0;34m\u001b[0m\u001b[0;34m\u001b[0m\u001b[0m\n\u001b[1;32m     11\u001b[0m     \"\"\"\n\u001b[0;32m---> 12\u001b[0;31m     \u001b[0;32massert\u001b[0m \u001b[0ml\u001b[0m \u001b[0;34m>=\u001b[0m \u001b[0;36m0\u001b[0m\u001b[0;34m\u001b[0m\u001b[0;34m\u001b[0m\u001b[0m\n\u001b[0m\u001b[1;32m     13\u001b[0m     \u001b[0;32massert\u001b[0m \u001b[0mT\u001b[0m \u001b[0;34m>=\u001b[0m \u001b[0;36m0\u001b[0m\u001b[0;34m\u001b[0m\u001b[0;34m\u001b[0m\u001b[0m\n\u001b[1;32m     14\u001b[0m     \u001b[0mhplanck\u001b[0m \u001b[0;34m=\u001b[0m \u001b[0mconst\u001b[0m\u001b[0;34m.\u001b[0m\u001b[0mh\u001b[0m\u001b[0;34m\u001b[0m\u001b[0;34m\u001b[0m\u001b[0m\n",
      "\u001b[0;31mAssertionError\u001b[0m: "
     ]
    }
   ],
   "source": [
    "BB_lambdaT(-100*u.m, -1000*u.K)"
   ]
  },
  {
   "cell_type": "markdown",
   "metadata": {},
   "source": [
    "Let's do a \"regression test\" --  we'll make sure the function still works the same way on previous input, to ensure we didn't break anything."
   ]
  },
  {
   "cell_type": "code",
   "execution_count": 48,
   "metadata": {},
   "outputs": [
    {
     "ename": "ValueError",
     "evalue": "The truth value of an array with more than one element is ambiguous. Use a.any() or a.all()",
     "output_type": "error",
     "traceback": [
      "\u001b[0;31m---------------------------------------------------------------------------\u001b[0m",
      "\u001b[0;31mValueError\u001b[0m                                Traceback (most recent call last)",
      "\u001b[0;32m<ipython-input-48-b4b15b1fffb5>\u001b[0m in \u001b[0;36m<module>\u001b[0;34m\u001b[0m\n\u001b[1;32m      1\u001b[0m \u001b[0mlambda_sun\u001b[0m \u001b[0;34m=\u001b[0m \u001b[0mnp\u001b[0m\u001b[0;34m.\u001b[0m\u001b[0mlinspace\u001b[0m\u001b[0;34m(\u001b[0m\u001b[0;36m100e-9\u001b[0m\u001b[0;34m,\u001b[0m \u001b[0;36m2000e-9\u001b[0m\u001b[0;34m,\u001b[0m \u001b[0;36m100\u001b[0m\u001b[0;34m)\u001b[0m \u001b[0;34m*\u001b[0m \u001b[0mu\u001b[0m\u001b[0;34m.\u001b[0m\u001b[0mm\u001b[0m \u001b[0;31m#wavelength range [m]\u001b[0m\u001b[0;34m\u001b[0m\u001b[0;34m\u001b[0m\u001b[0m\n\u001b[1;32m      2\u001b[0m \u001b[0mT_sun\u001b[0m \u001b[0;34m=\u001b[0m \u001b[0;36m5778\u001b[0m \u001b[0;34m*\u001b[0m \u001b[0mu\u001b[0m\u001b[0;34m.\u001b[0m\u001b[0mK\u001b[0m \u001b[0;31m# sun's temp [K]\u001b[0m\u001b[0;34m\u001b[0m\u001b[0;34m\u001b[0m\u001b[0m\n\u001b[0;32m----> 3\u001b[0;31m \u001b[0msun_BB\u001b[0m \u001b[0;34m=\u001b[0m \u001b[0mBB_lambdaT\u001b[0m\u001b[0;34m(\u001b[0m\u001b[0mlambda_sun\u001b[0m\u001b[0;34m,\u001b[0m \u001b[0mT_sun\u001b[0m\u001b[0;34m)\u001b[0m\u001b[0;34m\u001b[0m\u001b[0;34m\u001b[0m\u001b[0m\n\u001b[0m",
      "\u001b[0;32m<ipython-input-45-51634a751031>\u001b[0m in \u001b[0;36mBB_lambdaT\u001b[0;34m(l, T)\u001b[0m\n\u001b[1;32m     10\u001b[0m         \u001b[0mvalue\u001b[0m\u001b[0;34m(\u001b[0m\u001b[0ms\u001b[0m\u001b[0;34m)\u001b[0m \u001b[0mof\u001b[0m \u001b[0mPlanck\u001b[0m\u001b[0;31m'\u001b[0m\u001b[0ms\u001b[0m \u001b[0mfunction\u001b[0m \u001b[0mevaluated\u001b[0m \u001b[0mat\u001b[0m \u001b[0;34m(\u001b[0m\u001b[0ml\u001b[0m\u001b[0;34m,\u001b[0m \u001b[0mT\u001b[0m\u001b[0;34m)\u001b[0m \u001b[0;32mwith\u001b[0m \u001b[0mastropy\u001b[0m \u001b[0munits\u001b[0m \u001b[0mattached\u001b[0m\u001b[0;34m\u001b[0m\u001b[0;34m\u001b[0m\u001b[0m\n\u001b[1;32m     11\u001b[0m     \"\"\"\n\u001b[0;32m---> 12\u001b[0;31m     \u001b[0;32massert\u001b[0m \u001b[0ml\u001b[0m \u001b[0;34m>=\u001b[0m \u001b[0;36m0\u001b[0m\u001b[0;34m\u001b[0m\u001b[0;34m\u001b[0m\u001b[0m\n\u001b[0m\u001b[1;32m     13\u001b[0m     \u001b[0;32massert\u001b[0m \u001b[0mT\u001b[0m \u001b[0;34m>=\u001b[0m \u001b[0;36m0\u001b[0m\u001b[0;34m\u001b[0m\u001b[0;34m\u001b[0m\u001b[0m\n\u001b[1;32m     14\u001b[0m     \u001b[0mhplanck\u001b[0m \u001b[0;34m=\u001b[0m \u001b[0mconst\u001b[0m\u001b[0;34m.\u001b[0m\u001b[0mh\u001b[0m\u001b[0;34m\u001b[0m\u001b[0;34m\u001b[0m\u001b[0m\n",
      "\u001b[0;31mValueError\u001b[0m: The truth value of an array with more than one element is ambiguous. Use a.any() or a.all()"
     ]
    }
   ],
   "source": [
    "lambda_sun = np.linspace(100e-9, 2000e-9, 100) * u.m #wavelength range [m]\n",
    "T_sun = 5778 * u.K # sun's temp [K]\n",
    "sun_BB = BB_lambdaT(lambda_sun, T_sun)"
   ]
  },
  {
   "cell_type": "markdown",
   "metadata": {},
   "source": [
    "Woops, we did break something!  Let's fix it."
   ]
  },
  {
   "cell_type": "code",
   "execution_count": 49,
   "metadata": {},
   "outputs": [],
   "source": [
    "def BB_lambdaT(l, T):\n",
    "    \"\"\"\n",
    "    Planck's blackbody function per unit wavelength, which has units of\n",
    "    power per solid angle per unit area per unit wavelength.\n",
    "    \n",
    "    Arguments:\n",
    "        l: wavelength in astropy units (length)\n",
    "        T: temperature in astropy units (Kelvin)\n",
    "    Returns:\n",
    "        value(s) of Planck's function evaluated at (l, T) with astropy units attached\n",
    "    \"\"\"\n",
    "    assert np.any(l >= 0)\n",
    "    assert np.any(T >= 0)\n",
    "    hplanck = const.h\n",
    "    clight = const.c\n",
    "    kb = const.k_B\n",
    "    return (2.*hplanck*clight**2/l**5)/(np.exp(hplanck*clight/(l*kb*T))-1.) / u.sr"
   ]
  },
  {
   "cell_type": "code",
   "execution_count": 50,
   "metadata": {},
   "outputs": [
    {
     "ename": "AssertionError",
     "evalue": "",
     "output_type": "error",
     "traceback": [
      "\u001b[0;31m---------------------------------------------------------------------------\u001b[0m",
      "\u001b[0;31mAssertionError\u001b[0m                            Traceback (most recent call last)",
      "\u001b[0;32m<ipython-input-50-b594315fe317>\u001b[0m in \u001b[0;36m<module>\u001b[0;34m\u001b[0m\n\u001b[0;32m----> 1\u001b[0;31m \u001b[0mBB_lambdaT\u001b[0m\u001b[0;34m(\u001b[0m\u001b[0;34m-\u001b[0m\u001b[0;36m100\u001b[0m\u001b[0;34m*\u001b[0m\u001b[0mu\u001b[0m\u001b[0;34m.\u001b[0m\u001b[0mm\u001b[0m\u001b[0;34m,\u001b[0m \u001b[0;34m-\u001b[0m\u001b[0;36m1000\u001b[0m\u001b[0;34m*\u001b[0m\u001b[0mu\u001b[0m\u001b[0;34m.\u001b[0m\u001b[0mK\u001b[0m\u001b[0;34m)\u001b[0m\u001b[0;34m\u001b[0m\u001b[0;34m\u001b[0m\u001b[0m\n\u001b[0m",
      "\u001b[0;32m<ipython-input-49-2f4f134f8d59>\u001b[0m in \u001b[0;36mBB_lambdaT\u001b[0;34m(l, T)\u001b[0m\n\u001b[1;32m     10\u001b[0m         \u001b[0mvalue\u001b[0m\u001b[0;34m(\u001b[0m\u001b[0ms\u001b[0m\u001b[0;34m)\u001b[0m \u001b[0mof\u001b[0m \u001b[0mPlanck\u001b[0m\u001b[0;31m'\u001b[0m\u001b[0ms\u001b[0m \u001b[0mfunction\u001b[0m \u001b[0mevaluated\u001b[0m \u001b[0mat\u001b[0m \u001b[0;34m(\u001b[0m\u001b[0ml\u001b[0m\u001b[0;34m,\u001b[0m \u001b[0mT\u001b[0m\u001b[0;34m)\u001b[0m \u001b[0;32mwith\u001b[0m \u001b[0mastropy\u001b[0m \u001b[0munits\u001b[0m \u001b[0mattached\u001b[0m\u001b[0;34m\u001b[0m\u001b[0;34m\u001b[0m\u001b[0m\n\u001b[1;32m     11\u001b[0m     \"\"\"\n\u001b[0;32m---> 12\u001b[0;31m     \u001b[0;32massert\u001b[0m \u001b[0mnp\u001b[0m\u001b[0;34m.\u001b[0m\u001b[0many\u001b[0m\u001b[0;34m(\u001b[0m\u001b[0ml\u001b[0m \u001b[0;34m>=\u001b[0m \u001b[0;36m0\u001b[0m\u001b[0;34m)\u001b[0m\u001b[0;34m\u001b[0m\u001b[0;34m\u001b[0m\u001b[0m\n\u001b[0m\u001b[1;32m     13\u001b[0m     \u001b[0;32massert\u001b[0m \u001b[0mnp\u001b[0m\u001b[0;34m.\u001b[0m\u001b[0many\u001b[0m\u001b[0;34m(\u001b[0m\u001b[0mT\u001b[0m \u001b[0;34m>=\u001b[0m \u001b[0;36m0\u001b[0m\u001b[0;34m)\u001b[0m\u001b[0;34m\u001b[0m\u001b[0;34m\u001b[0m\u001b[0m\n\u001b[1;32m     14\u001b[0m     \u001b[0mhplanck\u001b[0m \u001b[0;34m=\u001b[0m \u001b[0mconst\u001b[0m\u001b[0;34m.\u001b[0m\u001b[0mh\u001b[0m\u001b[0;34m\u001b[0m\u001b[0;34m\u001b[0m\u001b[0m\n",
      "\u001b[0;31mAssertionError\u001b[0m: "
     ]
    }
   ],
   "source": [
    "BB_lambdaT(-100*u.m, -1000*u.K)"
   ]
  },
  {
   "cell_type": "code",
   "execution_count": 51,
   "metadata": {},
   "outputs": [],
   "source": [
    "lambda_sun = np.linspace(100e-9, 2000e-9, 100) * u.m #wavelength range [m]\n",
    "T_sun = 5778 * u.K # sun's temp [K]\n",
    "sun_BB = BB_lambdaT(lambda_sun, T_sun)"
   ]
  },
  {
   "cell_type": "code",
   "execution_count": 53,
   "metadata": {},
   "outputs": [
    {
     "data": {
      "text/latex": [
       "$[1.826328 \\times 10^{8},~4.1844476 \\times 10^{9},~3.5954418 \\times 10^{10},~1.680848 \\times 10^{11},~5.2611654 \\times 10^{11},~1.2486295 \\times 10^{12},~2.4312077 \\times 10^{12},~4.0919509 \\times 10^{12},~6.1707503 \\times 10^{12},~8.5520543 \\times 10^{12},~1.1095086 \\times 10^{13},~1.3660114 \\times 10^{13},~1.6126009 \\times 10^{13},~1.8398975 \\times 10^{13},~2.0414511 \\times 10^{13},~2.2135078 \\times 10^{13},~2.3545622 \\times 10^{13},~2.4648398 \\times 10^{13},~2.5458021 \\times 10^{13},~2.5997197 \\times 10^{13},~2.6293275 \\times 10^{13},~2.6375635 \\times 10^{13},~2.6273812 \\times 10^{13},~2.6016208 \\times 10^{13},~2.5629291 \\times 10^{13},~2.5137139 \\times 10^{13},~2.4561244 \\times 10^{13},~2.3920489 \\times 10^{13},~2.3231241 \\times 10^{13},~2.2507522 \\times 10^{13},~2.1761209 \\times 10^{13},~2.1002258 \\times 10^{13},~2.0238925 \\times 10^{13},~1.9477981 \\times 10^{13},~1.8724912 \\times 10^{13},~1.79841 \\times 10^{13},~1.7258987 \\times 10^{13},~1.6552221 \\times 10^{13},~1.5865781 \\times 10^{13},~1.5201087 \\times 10^{13},~1.45591 \\times 10^{13},~1.3940396 \\times 10^{13},~1.3345242 \\times 10^{13},~1.2773653 \\times 10^{13},~1.222544 \\times 10^{13},~1.1700255 \\times 10^{13},~1.1197624 \\times 10^{13},~1.0716979 \\times 10^{13},~1.0257678 \\times 10^{13},~9.8190298 \\times 10^{12},~9.4003065 \\times 10^{12},~9.00076 \\times 10^{12},~8.6196316 \\times 10^{12},~8.2561611 \\times 10^{12},~7.9095939 \\times 10^{12},~7.5791863 \\times 10^{12},~7.2642105 \\times 10^{12},~6.9639571 \\times 10^{12},~6.6777379 \\times 10^{12},~6.404888 \\times 10^{12},~6.1447663 \\times 10^{12},~5.8967569 \\times 10^{12},~5.6602689 \\times 10^{12},~5.4347369 \\times 10^{12},~5.2196204 \\times 10^{12},~5.0144035 \\times 10^{12},~4.8185948 \\times 10^{12},~4.6317261 \\times 10^{12},~4.4533521 \\times 10^{12},~4.2830495 \\times 10^{12},~4.1204162 \\times 10^{12},~3.9650703 \\times 10^{12},~3.8166496 \\times 10^{12},~3.6748101 \\times 10^{12},~3.5392261 \\times 10^{12},~3.4095882 \\times 10^{12},~3.2856036 \\times 10^{12},~3.1669946 \\times 10^{12},~3.0534979 \\times 10^{12},~2.9448642 \\times 10^{12},~2.8408572 \\times 10^{12},~2.741253 \\times 10^{12},~2.6458393 \\times 10^{12},~2.5544151 \\times 10^{12},~2.4667898 \\times 10^{12},~2.3827828 \\times 10^{12},~2.3022228 \\times 10^{12},~2.2249476 \\times 10^{12},~2.1508033 \\times 10^{12},~2.0796438 \\times 10^{12},~2.0113309 \\times 10^{12},~1.9457331 \\times 10^{12},~1.8827259 \\times 10^{12},~1.822191 \\times 10^{12},~1.7640162 \\times 10^{12},~1.708095 \\times 10^{12},~1.6543262 \\times 10^{12},~1.6026136 \\times 10^{12},~1.5528661 \\times 10^{12},~1.5049968 \\times 10^{12}] \\; \\mathrm{\\frac{J}{s\\,sr\\,m^{3}}}$"
      ],
      "text/plain": [
       "<Quantity [1.82632795e+08, 4.18444757e+09, 3.59544183e+10, 1.68084796e+11,\n",
       "           5.26116543e+11, 1.24862953e+12, 2.43120770e+12, 4.09195085e+12,\n",
       "           6.17075030e+12, 8.55205431e+12, 1.10950860e+13, 1.36601140e+13,\n",
       "           1.61260087e+13, 1.83989754e+13, 2.04145105e+13, 2.21350783e+13,\n",
       "           2.35456222e+13, 2.46483975e+13, 2.54580214e+13, 2.59971973e+13,\n",
       "           2.62932746e+13, 2.63756353e+13, 2.62738118e+13, 2.60162077e+13,\n",
       "           2.56292906e+13, 2.51371391e+13, 2.45612444e+13, 2.39204890e+13,\n",
       "           2.32312415e+13, 2.25075225e+13, 2.17612095e+13, 2.10022581e+13,\n",
       "           2.02389248e+13, 1.94779808e+13, 1.87249117e+13, 1.79840997e+13,\n",
       "           1.72589870e+13, 1.65522210e+13, 1.58657807e+13, 1.52010874e+13,\n",
       "           1.45590999e+13, 1.39403960e+13, 1.33452421e+13, 1.27736526e+13,\n",
       "           1.22254396e+13, 1.17002546e+13, 1.11976242e+13, 1.07169790e+13,\n",
       "           1.02576783e+13, 9.81902978e+12, 9.40030646e+12, 9.00075997e+12,\n",
       "           8.61963158e+12, 8.25616109e+12, 7.90959385e+12, 7.57918635e+12,\n",
       "           7.26421051e+12, 6.96395705e+12, 6.67773790e+12, 6.40488796e+12,\n",
       "           6.14476631e+12, 5.89675690e+12, 5.66026895e+12, 5.43473692e+12,\n",
       "           5.21962035e+12, 5.01440351e+12, 4.81859478e+12, 4.63172607e+12,\n",
       "           4.45335209e+12, 4.28304951e+12, 4.12041620e+12, 3.96507034e+12,\n",
       "           3.81664957e+12, 3.67481015e+12, 3.53922606e+12, 3.40958822e+12,\n",
       "           3.28560363e+12, 3.16699458e+12, 3.05349792e+12, 2.94486424e+12,\n",
       "           2.84085725e+12, 2.74125300e+12, 2.64583932e+12, 2.55441511e+12,\n",
       "           2.46678981e+12, 2.38278279e+12, 2.30222284e+12, 2.22494763e+12,\n",
       "           2.15080328e+12, 2.07964384e+12, 2.01133088e+12, 1.94573308e+12,\n",
       "           1.88272586e+12, 1.82219098e+12, 1.76401621e+12, 1.70809500e+12,\n",
       "           1.65432617e+12, 1.60261363e+12, 1.55286608e+12, 1.50499676e+12] J / (m3 s sr)>"
      ]
     },
     "execution_count": 53,
     "metadata": {},
     "output_type": "execute_result"
    }
   ],
   "source": [
    "sun_BB"
   ]
  },
  {
   "cell_type": "code",
   "execution_count": 54,
   "metadata": {},
   "outputs": [
    {
     "ename": "AssertionError",
     "evalue": "",
     "output_type": "error",
     "traceback": [
      "\u001b[0;31m---------------------------------------------------------------------------\u001b[0m",
      "\u001b[0;31mAssertionError\u001b[0m                            Traceback (most recent call last)",
      "\u001b[0;32m<ipython-input-54-fa4721686a2f>\u001b[0m in \u001b[0;36m<module>\u001b[0;34m\u001b[0m\n\u001b[1;32m      1\u001b[0m \u001b[0mlambda_sun\u001b[0m \u001b[0;34m=\u001b[0m \u001b[0mnp\u001b[0m\u001b[0;34m.\u001b[0m\u001b[0mlinspace\u001b[0m\u001b[0;34m(\u001b[0m\u001b[0;36m100e-9\u001b[0m\u001b[0;34m,\u001b[0m \u001b[0;36m2000e-9\u001b[0m\u001b[0;34m,\u001b[0m \u001b[0;36m100\u001b[0m\u001b[0;34m)\u001b[0m \u001b[0;34m*\u001b[0m \u001b[0mu\u001b[0m\u001b[0;34m.\u001b[0m\u001b[0mm\u001b[0m \u001b[0;31m#wavelength range [m]\u001b[0m\u001b[0;34m\u001b[0m\u001b[0;34m\u001b[0m\u001b[0m\n\u001b[1;32m      2\u001b[0m \u001b[0mT_sun\u001b[0m \u001b[0;34m=\u001b[0m \u001b[0;34m-\u001b[0m\u001b[0;36m1\u001b[0m \u001b[0;34m*\u001b[0m \u001b[0;36m5778\u001b[0m \u001b[0;34m*\u001b[0m \u001b[0mu\u001b[0m\u001b[0;34m.\u001b[0m\u001b[0mK\u001b[0m \u001b[0;31m# sun's temp [K]\u001b[0m\u001b[0;34m\u001b[0m\u001b[0;34m\u001b[0m\u001b[0m\n\u001b[0;32m----> 3\u001b[0;31m \u001b[0msun_BB\u001b[0m \u001b[0;34m=\u001b[0m \u001b[0mBB_lambdaT\u001b[0m\u001b[0;34m(\u001b[0m\u001b[0mlambda_sun\u001b[0m\u001b[0;34m,\u001b[0m \u001b[0mT_sun\u001b[0m\u001b[0;34m)\u001b[0m\u001b[0;34m\u001b[0m\u001b[0;34m\u001b[0m\u001b[0m\n\u001b[0m",
      "\u001b[0;32m<ipython-input-49-2f4f134f8d59>\u001b[0m in \u001b[0;36mBB_lambdaT\u001b[0;34m(l, T)\u001b[0m\n\u001b[1;32m     11\u001b[0m     \"\"\"\n\u001b[1;32m     12\u001b[0m     \u001b[0;32massert\u001b[0m \u001b[0mnp\u001b[0m\u001b[0;34m.\u001b[0m\u001b[0many\u001b[0m\u001b[0;34m(\u001b[0m\u001b[0ml\u001b[0m \u001b[0;34m>=\u001b[0m \u001b[0;36m0\u001b[0m\u001b[0;34m)\u001b[0m\u001b[0;34m\u001b[0m\u001b[0;34m\u001b[0m\u001b[0m\n\u001b[0;32m---> 13\u001b[0;31m     \u001b[0;32massert\u001b[0m \u001b[0mnp\u001b[0m\u001b[0;34m.\u001b[0m\u001b[0many\u001b[0m\u001b[0;34m(\u001b[0m\u001b[0mT\u001b[0m \u001b[0;34m>=\u001b[0m \u001b[0;36m0\u001b[0m\u001b[0;34m)\u001b[0m\u001b[0;34m\u001b[0m\u001b[0;34m\u001b[0m\u001b[0m\n\u001b[0m\u001b[1;32m     14\u001b[0m     \u001b[0mhplanck\u001b[0m \u001b[0;34m=\u001b[0m \u001b[0mconst\u001b[0m\u001b[0;34m.\u001b[0m\u001b[0mh\u001b[0m\u001b[0;34m\u001b[0m\u001b[0;34m\u001b[0m\u001b[0m\n\u001b[1;32m     15\u001b[0m     \u001b[0mclight\u001b[0m \u001b[0;34m=\u001b[0m \u001b[0mconst\u001b[0m\u001b[0;34m.\u001b[0m\u001b[0mc\u001b[0m\u001b[0;34m\u001b[0m\u001b[0;34m\u001b[0m\u001b[0m\n",
      "\u001b[0;31mAssertionError\u001b[0m: "
     ]
    }
   ],
   "source": [
    "lambda_sun = np.linspace(100e-9, 2000e-9, 100) * u.m #wavelength range [m]\n",
    "T_sun = -1 * 5778 * u.K # sun's temp [K]\n",
    "sun_BB = BB_lambdaT(lambda_sun, T_sun)"
   ]
  },
  {
   "cell_type": "markdown",
   "metadata": {},
   "source": [
    "## 4.3 Some remarks on the use of units\n",
    "\n",
    "* Advantages and disadvantages of using an external code library for your units.\n",
    "  + Pro: simplicity, convenience, don't repeat existing information\n",
    "  + Pro: consistent constants for all your work (is electron mass 1e-27 or 9.1093837e-28 grams?).\n",
    "    Might help root out subtle bugs or disagreements\n",
    "  + Con: sometimes, more complex than you need.  You have to _trust_ the external library!\n",
    "  + Con: dependency.\n",
    "  + Con: performance overhead.  https://docs.astropy.org/en/stable/units/index.html#performance-tips\n",
    "\n",
    "\n",
    "* Other libraries and contenders?  Why should we use astropy units specifically?\n",
    "  + Wolfram|Alpha, for quick one-off calculations: https://www.wolframalpha.com/\n",
    "  + `yt` and `unyt` provide unit-aware interfaces for simulation outputs: https://yt-project.org/\n",
    "  + Many other specialized packages will provide their own unit packages.  Different packages / systems may not talk easily with one another (but, can be aided by projects like `yt`).  Example from a well-used magnetohydrodynamics code: https://arepo-code.org/wp-content/userguide/parameterfile.html#system-of-units\n",
    "  + What's the \"best\" unit system to use?  How do you judge whether a library is trustworthy, accurate, and bug free?\n",
    "    Many factors, including personal preference.  Some discussion on page 3 of:\n",
    "    https://joss.theoj.org/papers/10.21105/joss.00809\n",
    "\n",
    "\n",
    "## 4.4 References\n",
    "\n",
    "* Documentation: https://docs.astropy.org/en/stable/units/index.html\n",
    "* Tutorials on astropy units specifically:\n",
    "  + (recommended) https://learn.astropy.org/tutorials/quantities.html\n",
    "  + https://astropy4cambridge.readthedocs.io/en/latest/_static/Astropy%20-%20Unit%20Conversion.html\n",
    "* Going farther than necessary...\n",
    "  + Dimensional analysis is a powerful tool. Some search terms: dimensional analysis, scaling laws, self-similariy, Buckingham $\\pi$ theorem.\n",
    "  + A math-y reference: \"Scaling\" by G. I. Barenblatt https://www.cambridge.org/core/books/scaling/E08325F4C8A14AAD4742E39FE5D0A6B3"
   ]
  },
  {
   "cell_type": "markdown",
   "metadata": {},
   "source": [
    "# 5. Parting thoughts on scientific computing, generally\n",
    "\n",
    "\n",
    "* Digging deeper: what's in the `[source]`?\n",
    "  https://docs.scipy.org/doc/scipy/reference/generated/scipy.optimize.curve_fit.html\n",
    "\n",
    "\n",
    "* Mathematica notebooks (from 1988, before Python's first release in 1991(!)) helped pave the way towards IPython / Jupyter.  A very powerful tool, _especially_ for symbolic mathematics.  Downsides: proprietary/closed source, cost.  Free license for Columbia students: https://www.cuit.columbia.edu/content/mathematica\n",
    "\n",
    "\n",
    "* Some suggested best practices in scientific computing: https://journals.plos.org/plosbiology/article?id=10.1371/journal.pbio.1001745\n",
    "\n",
    "\n",
    "* A bit on programming philosophy.\n",
    "  + Coding style, much is not relevant for scientific programming, but some useful tidbits / inspiration. https://google.github.io/styleguide/pyguide.html\n",
    "  + Example: how to write a good comment or docstring?  You'll thank yourself in 1-2 years.\n",
    "    https://google.github.io/styleguide/pyguide.html#s3.8-comments-and-docstrings\n",
    "  + \"Everyone knows that debugging is twice as hard as writing a program in the first place. So if you're as clever as you can be when you write it, how will you ever debug it?\"  -- Brian Kernighan, The Elements of Programming Style\n"
   ]
  }
 ],
 "metadata": {
  "colab": {
   "collapsed_sections": [],
   "name": "Undergrad Research Coding Workshop.ipynb",
   "provenance": []
  },
  "kernelspec": {
   "display_name": "Python 3",
   "language": "python",
   "name": "python3"
  },
  "language_info": {
   "codemirror_mode": {
    "name": "ipython",
    "version": 3
   },
   "file_extension": ".py",
   "mimetype": "text/x-python",
   "name": "python",
   "nbconvert_exporter": "python",
   "pygments_lexer": "ipython3",
   "version": "3.7.4"
  }
 },
 "nbformat": 4,
 "nbformat_minor": 4
}
